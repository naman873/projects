{
 "cells": [
  {
   "cell_type": "code",
   "execution_count": 10,
   "metadata": {},
   "outputs": [],
   "source": [
    "import tkinter as Tkinter\n",
    "from datetime import datetime"
   ]
  },
  {
   "cell_type": "code",
   "execution_count": 23,
   "metadata": {},
   "outputs": [],
   "source": [
    "running=False\n",
    "counter=66600\n",
    "\n",
    "def counter_label(label):\n",
    "    def count():\n",
    "        if running:\n",
    "            global counter\n",
    "            \n",
    "            if counter==66600:\n",
    "                display=\"Starting...\"\n",
    "            else:\n",
    "                tt=datetime.fromtimestamp(counter)\n",
    "                string=tt.strftime(\"%H:%M:%S\")\n",
    "                display=string\n",
    "                \n",
    "            label['text']=display\n",
    "            label.after(1000,count)\n",
    "            counter+=1\n",
    "            \n",
    "    count()\n",
    "    \n",
    "    \n",
    "def Start(label):\n",
    "    global running\n",
    "    running=True\n",
    "    counter_label(label)\n",
    "    start['state']='disabled'\n",
    "    reset['state']='normal'\n",
    "    stop['state']='normal'\n",
    "            \n",
    "\n",
    "def Stop():\n",
    "    global running\n",
    "    running=False\n",
    "    start['state']='normal'\n",
    "    reset['state']='normal'\n",
    "    stop['state']='disabled'\n",
    "    \n",
    "\n",
    "def Reset(label):\n",
    "    global counter\n",
    "    counter=66600\n",
    "    \n",
    "    if running==False:\n",
    "        reset[\"state\"]='disabled'\n",
    "        label['text']=\"Welcome\"\n",
    "        \n",
    "    else:\n",
    "        label['text']=\"Starting....\"\n",
    "    \n",
    "            \n",
    "root=Tkinter.Tk()\n",
    "root.title(\"Stopwatch\")\n",
    "root.minsize(width=250, height=70)\n",
    "label=Tkinter.Label(root,text=\"Welcome!\",fg=\"black\",font=\"Verdana 30 bold\")\n",
    "label.pack()\n",
    "f=Tkinter.Frame()\n",
    "start=Tkinter.Button(f,text=\"Start\",width=6,state=\"normal\",command=lambda:Start(label))\n",
    "reset=Tkinter.Button(f,text=\"Reset\",width=6,state=\"disabled\",command=lambda:Reset(label))\n",
    "stop=Tkinter.Button(f,text=\"Stop\",width=6,state=\"disabled\",command=Stop)\n",
    "f.pack(anchor=\"center\",pady=5)\n",
    "start.pack(side=\"left\")\n",
    "reset.pack(side=\"left\")\n",
    "stop.pack(side=\"left\")\n",
    "root.mainloop()"
   ]
  },
  {
   "cell_type": "code",
   "execution_count": null,
   "metadata": {},
   "outputs": [],
   "source": []
  },
  {
   "cell_type": "code",
   "execution_count": null,
   "metadata": {},
   "outputs": [],
   "source": []
  }
 ],
 "metadata": {
  "kernelspec": {
   "display_name": "Python 3",
   "language": "python",
   "name": "python3"
  },
  "language_info": {
   "codemirror_mode": {
    "name": "ipython",
    "version": 3
   },
   "file_extension": ".py",
   "mimetype": "text/x-python",
   "name": "python",
   "nbconvert_exporter": "python",
   "pygments_lexer": "ipython3",
   "version": "3.7.6"
  }
 },
 "nbformat": 4,
 "nbformat_minor": 4
}
